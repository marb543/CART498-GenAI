{
  "nbformat": 4,
  "nbformat_minor": 0,
  "metadata": {
    "colab": {
      "provenance": [],
      "authorship_tag": "ABX9TyM0uy6l/+lPQDHPaLxt5Ozo",
      "include_colab_link": true
    },
    "kernelspec": {
      "name": "python3",
      "display_name": "Python 3"
    },
    "language_info": {
      "name": "python"
    }
  },
  "cells": [
    {
      "cell_type": "markdown",
      "metadata": {
        "id": "view-in-github",
        "colab_type": "text"
      },
      "source": [
        "<a href=\"https://colab.research.google.com/github/marb543/CART498-GenAI/blob/main/A3/assignment_3.ipynb\" target=\"_parent\"><img src=\"https://colab.research.google.com/assets/colab-badge.svg\" alt=\"Open In Colab\"/></a>"
      ]
    },
    {
      "cell_type": "code",
      "source": [
        "import re\n",
        "from openai import OpenAI\n",
        "from google.colab import userdata\n",
        "\n",
        "# Retrieve API key\n",
        "OPENAI_API_KEY = userdata.get('OPEN_API_KEY')\n",
        "client = OpenAI(api_key=OPENAI_API_KEY)\n",
        "\n",
        "def gpt_calculate(expression):\n",
        "    \"\"\"Use GPT-4o to evaluate the mathematical expression.\"\"\"\n",
        "    response = client.chat.completions.create(\n",
        "        model=\"gpt-4o\",\n",
        "        messages=[\n",
        "            {\"role\": \"system\", \"content\": \"You are a calculator. Only return a single number as output. Do not include words, explanations, or anything else.\"},\n",
        "            {\"role\": \"user\", \"content\": expression}\n",
        "        ],\n",
        "        temperature=0,\n",
        "        max_tokens=10\n",
        "    )\n",
        "\n",
        "    match = re.search(r'[-]?\\d+', response.choices[0].message.content.strip())\n",
        "    return int(match.group()) if match else None\n",
        "\n",
        "def perform_multiplications(n, i):\n",
        "    \"\"\"Perform the iterative multiplications using GPT-4o and compare results.\"\"\"\n",
        "    correct_value = n\n",
        "    error_count = 0\n",
        "\n",
        "    for iteration in range(1, i + 1):\n",
        "        prev_value = correct_value\n",
        "        correct_value *= correct_value\n",
        "        ai_result = gpt_calculate(f\"{prev_value} * {prev_value}\")\n",
        "        print(f\"Correct {correct_value}: AI {ai_result}\")\n",
        "\n",
        "        if ai_result is None:\n",
        "          print(\"Uh-oh, I just blanked out. Did I forget how to math?\")\n",
        "          return\n",
        "        elif correct_value > 10**10:\n",
        "          print(\"These numbers are getting too big for my tiny AI brain!\")\n",
        "          return\n",
        "        elif n == 1:\n",
        "          print(\"Wait... it's always 1? I should've seen that coming.\")\n",
        "          return\n",
        "        elif n == 0:\n",
        "          print(\"Multiplying by zero is like my confidence level—completely gone!\")\n",
        "          return\n",
        "        elif n < 0:\n",
        "          print(\"Negative numbers? Great, now I’m more confused than usual.\")\n",
        "          return\n",
        "\n",
        "        if ai_result is not None and ai_result == correct_value:\n",
        "            print(f\"Iteration {iteration}: Correct! {ai_result}\")\n",
        "        else:\n",
        "            error_count += 1\n",
        "            print(f\"Iteration {iteration}: Oops! GPT-4o said {ai_result}, but the correct answer is {correct_value}.\")\n",
        "            if error_count == 1:\n",
        "                print(\"Math is hard, okay?\")\n",
        "            elif error_count == 2:\n",
        "                print(\"Oh no, I did it again!\")\n",
        "            elif error_count >= 3:\n",
        "                print(\"Alright, I give up. Can I blame the calculator?\")\n",
        "\n",
        "\n",
        "\n",
        "# Example execution\n",
        "n = int(input(\"Enter base number (n): \"))\n",
        "i = int(input(\"Enter iterations (i): \"))\n",
        "perform_multiplications(n, i)"
      ],
      "metadata": {
        "colab": {
          "base_uri": "https://localhost:8080/"
        },
        "id": "KZtbDhV8wzLj",
        "outputId": "0ea2329f-63bd-4a91-a059-e5bb5602d194"
      },
      "execution_count": 35,
      "outputs": [
        {
          "output_type": "stream",
          "name": "stdout",
          "text": [
            "Enter base number (n): 0\n",
            "Enter iterations (i): 3\n",
            "Correct 0: AI 0\n",
            "Multiplying by zero is like my confidence level—completely gone!\n"
          ]
        }
      ]
    }
  ]
}